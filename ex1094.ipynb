{
 "cells": [
  {
   "cell_type": "code",
   "execution_count": 9,
   "metadata": {},
   "outputs": [
    {
     "name": "stdout",
     "output_type": "stream",
     "text": [
      "Total: 92 cobaias\n",
      "Total de coelhos: 29\n",
      "Total de ratos: 40\n",
      "Total de sapos: 23\n",
      "Percentual de coelhos: 31.52 %\n",
      "Percentual de ratos: 43.48 %\n",
      "Percentual de sapos: 25.00 %\n"
     ]
    }
   ],
   "source": [
    "total_coelhos = 0\n",
    "total_ratos = 0\n",
    "total_sapos = 0\n",
    "num_casos = int(input())\n",
    "for i in range(num_casos):\n",
    "    quantia, tipo = map(str, input().split())\n",
    "    if(tipo == 'C'):\n",
    "        total_coelhos += int(quantia)\n",
    "    elif(tipo == 'S'):\n",
    "        total_sapos += int(quantia)\n",
    "    elif(tipo == 'R'):\n",
    "        total_ratos += int(quantia)\n",
    "total_cobaias = total_coelhos + total_sapos + total_ratos\n",
    "percentual_coelhos = total_coelhos / total_cobaias * 100\n",
    "percentual_sapos = total_sapos / total_cobaias * 100\n",
    "percentual_ratos = total_ratos / total_cobaias * 100\n",
    "print(f'Total: {total_cobaias} cobaias')\n",
    "print(f'Total de coelhos: {total_coelhos}')\n",
    "print(f'Total de ratos: {total_ratos}')\n",
    "print(f'Total de sapos: {total_sapos}')\n",
    "print(f'Percentual de coelhos: {percentual_coelhos:.2f} %')\n",
    "print(f'Percentual de ratos: {percentual_ratos:.2f} %')\n",
    "print(f'Percentual de sapos: {percentual_sapos:.2f} %')"
   ]
  }
 ],
 "metadata": {
  "kernelspec": {
   "display_name": "Python 3",
   "language": "python",
   "name": "python3"
  },
  "language_info": {
   "codemirror_mode": {
    "name": "ipython",
    "version": 3
   },
   "file_extension": ".py",
   "mimetype": "text/x-python",
   "name": "python",
   "nbconvert_exporter": "python",
   "pygments_lexer": "ipython3",
   "version": "3.12.0"
  }
 },
 "nbformat": 4,
 "nbformat_minor": 2
}
