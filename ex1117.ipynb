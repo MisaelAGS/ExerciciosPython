{
 "cells": [
  {
   "cell_type": "code",
   "execution_count": 3,
   "metadata": {},
   "outputs": [
    {
     "name": "stdout",
     "output_type": "stream",
     "text": [
      "nota invalida\n",
      "nota invalida\n",
      "media = 6.75\n"
     ]
    }
   ],
   "source": [
    "nota_1 = float(input())\n",
    "nota_2 = float(input())\n",
    "while(0 > nota_1 or nota_1 > 10):\n",
    "    print('nota invalida')\n",
    "    nota_1 = float(input())\n",
    "while(0 > nota_2 or nota_2 > 10):\n",
    "    print('nota invalida')\n",
    "    nota_2 = float(input())\n",
    "media = (nota_1 + nota_2) / 2\n",
    "print(f'media = {media}')"
   ]
  }
 ],
 "metadata": {
  "kernelspec": {
   "display_name": "Python 3",
   "language": "python",
   "name": "python3"
  },
  "language_info": {
   "codemirror_mode": {
    "name": "ipython",
    "version": 3
   },
   "file_extension": ".py",
   "mimetype": "text/x-python",
   "name": "python",
   "nbconvert_exporter": "python",
   "pygments_lexer": "ipython3",
   "version": "3.12.0"
  }
 },
 "nbformat": 4,
 "nbformat_minor": 2
}
