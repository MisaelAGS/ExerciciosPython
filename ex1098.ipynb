{
 "cells": [
  {
   "cell_type": "code",
   "execution_count": 71,
   "metadata": {},
   "outputs": [
    {
     "name": "stdout",
     "output_type": "stream",
     "text": [
      "I=0 J=1\n",
      "I=0 J=2\n",
      "I=0 J=3\n",
      "I=0.2 J=1.2\n",
      "I=0.2 J=2.2\n",
      "I=0.2 J=3.2\n",
      "I=0.4 J=1.4\n",
      "I=0.4 J=2.4\n",
      "I=0.4 J=3.4\n",
      "I=0.6 J=1.6\n",
      "I=0.6 J=2.6\n",
      "I=0.6 J=3.6\n",
      "I=0.8 J=1.8\n",
      "I=0.8 J=2.8\n",
      "I=0.8 J=3.8\n",
      "I=1 J=2\n",
      "I=1 J=3\n",
      "I=1 J=4\n",
      "I=1.2 J=2.2\n",
      "I=1.2 J=3.2\n",
      "I=1.2 J=4.2\n",
      "I=1.4 J=2.4\n",
      "I=1.4 J=3.4\n",
      "I=1.4 J=4.4\n",
      "I=1.6 J=2.6\n",
      "I=1.6 J=3.6\n",
      "I=1.6 J=4.6\n",
      "I=1.8 J=2.8\n",
      "I=1.8 J=3.8\n",
      "I=1.8 J=4.8\n",
      "I=2 J=3\n",
      "I=2 J=4\n",
      "I=2 J=5\n"
     ]
    }
   ],
   "source": [
    "I = 0\n",
    "incremento = 0\n",
    "while(I < 2.1):\n",
    "    for i in range(1, 4):\n",
    "        if(I == 0 or I == 1.0 or I > 1.9):\n",
    "            i += incremento\n",
    "            print(f'I={I:.0f} J={i:.0f}')\n",
    "        else:\n",
    "            i += incremento\n",
    "            print(f'I={I:.1f} J={i:.1f}')\n",
    "    I += 0.2\n",
    "    incremento += 0.2"
   ]
  }
 ],
 "metadata": {
  "kernelspec": {
   "display_name": "Python 3",
   "language": "python",
   "name": "python3"
  },
  "language_info": {
   "codemirror_mode": {
    "name": "ipython",
    "version": 3
   },
   "file_extension": ".py",
   "mimetype": "text/x-python",
   "name": "python",
   "nbconvert_exporter": "python",
   "pygments_lexer": "ipython3",
   "version": "3.12.0"
  }
 },
 "nbformat": 4,
 "nbformat_minor": 2
}
