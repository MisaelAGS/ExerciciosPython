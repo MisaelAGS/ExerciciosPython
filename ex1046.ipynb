{
 "cells": [
  {
   "cell_type": "code",
   "execution_count": 14,
   "metadata": {},
   "outputs": [
    {
     "name": "stdout",
     "output_type": "stream",
     "text": [
      "O JOGO DUROU 21 HORA(S)\n"
     ]
    }
   ],
   "source": [
    "hora_inicio, hora_final = map(int, input().split())\n",
    "if(hora_inicio == hora_final):\n",
    "    duracao = 24\n",
    "elif(hora_final > hora_inicio):\n",
    "    duracao = hora_final - hora_inicio\n",
    "elif(hora_inicio > hora_final):\n",
    "    duracao = (24 - hora_inicio) + hora_final\n",
    "print(f'O JOGO DUROU {duracao} HORA(S)')"
   ]
  }
 ],
 "metadata": {
  "kernelspec": {
   "display_name": "Python 3",
   "language": "python",
   "name": "python3"
  },
  "language_info": {
   "codemirror_mode": {
    "name": "ipython",
    "version": 3
   },
   "file_extension": ".py",
   "mimetype": "text/x-python",
   "name": "python",
   "nbconvert_exporter": "python",
   "pygments_lexer": "ipython3",
   "version": "3.12.0"
  }
 },
 "nbformat": 4,
 "nbformat_minor": 2
}
