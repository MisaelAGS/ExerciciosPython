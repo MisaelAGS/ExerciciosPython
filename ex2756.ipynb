{
 "cells": [
  {
   "cell_type": "code",
   "execution_count": 1,
   "metadata": {},
   "outputs": [
    {
     "name": "stdout",
     "output_type": "stream",
     "text": [
      "       A\n",
      "      B B\n",
      "     C   C\n",
      "    D     D\n",
      "   E       E\n",
      "    D     D\n",
      "     C   C\n",
      "      B B\n",
      "       A\n"
     ]
    }
   ],
   "source": [
    "etapa_1 = '       A'\n",
    "etapa_2 = '      B B'\n",
    "etapa_3 = '     C   C'\n",
    "etapa_4 = '    D     D'\n",
    "etapa_5 = '   E       E'\n",
    "etapa_6 = etapa_4\n",
    "etapa_7 = etapa_3\n",
    "etapa_8 = etapa_2\n",
    "etapa_9 = etapa_1\n",
    "print(etapa_1)\n",
    "print(etapa_2)\n",
    "print(etapa_3)\n",
    "print(etapa_4)\n",
    "print(etapa_5)\n",
    "print(etapa_6)\n",
    "print(etapa_7)\n",
    "print(etapa_8)\n",
    "print(etapa_9)"
   ]
  }
 ],
 "metadata": {
  "kernelspec": {
   "display_name": "Python 3",
   "language": "python",
   "name": "python3"
  },
  "language_info": {
   "codemirror_mode": {
    "name": "ipython",
    "version": 3
   },
   "file_extension": ".py",
   "mimetype": "text/x-python",
   "name": "python",
   "nbconvert_exporter": "python",
   "pygments_lexer": "ipython3",
   "version": "3.12.0"
  }
 },
 "nbformat": 4,
 "nbformat_minor": 2
}
