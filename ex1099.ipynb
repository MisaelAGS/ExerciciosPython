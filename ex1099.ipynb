{
 "cells": [
  {
   "cell_type": "code",
   "execution_count": 22,
   "metadata": {},
   "outputs": [
    {
     "name": "stdout",
     "output_type": "stream",
     "text": [
      "0\n",
      "11\n",
      "5\n",
      "0\n",
      "0\n",
      "0\n",
      "12\n"
     ]
    }
   ],
   "source": [
    "N = int(input())\n",
    "for i in range(N):\n",
    "    X, Y = map(int, input().split())\n",
    "    maior_valor = int(((X + Y + (abs(X - Y))) / 2))\n",
    "    menor_valor = int(((X + Y - (abs(X - Y))) / 2))\n",
    "    soma_impares = 0\n",
    "    for i in range(menor_valor + 1, maior_valor):\n",
    "        if( i % 2 != 0):\n",
    "            soma_impares += i\n",
    "    print(soma_impares)"
   ]
  }
 ],
 "metadata": {
  "kernelspec": {
   "display_name": "Python 3",
   "language": "python",
   "name": "python3"
  },
  "language_info": {
   "codemirror_mode": {
    "name": "ipython",
    "version": 3
   },
   "file_extension": ".py",
   "mimetype": "text/x-python",
   "name": "python",
   "nbconvert_exporter": "python",
   "pygments_lexer": "ipython3",
   "version": "3.12.0"
  }
 },
 "nbformat": 4,
 "nbformat_minor": 2
}
