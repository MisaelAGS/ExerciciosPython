{
 "cells": [
  {
   "cell_type": "code",
   "execution_count": 3,
   "metadata": {},
   "outputs": [
    {
     "name": "stdout",
     "output_type": "stream",
     "text": [
      "4 valores positivos\n",
      "7.4\n"
     ]
    }
   ],
   "source": [
    "qtd_positivo = 0\n",
    "soma_positivo = 0\n",
    "for i in range(6):\n",
    "    i = float(input())\n",
    "    if(i > 0):\n",
    "        qtd_positivo += 1\n",
    "        soma_positivo += i\n",
    "media = soma_positivo / qtd_positivo\n",
    "print(f'{qtd_positivo} valores positivos')\n",
    "print(f'{media:.1f}')"
   ]
  }
 ],
 "metadata": {
  "kernelspec": {
   "display_name": "Python 3",
   "language": "python",
   "name": "python3"
  },
  "language_info": {
   "codemirror_mode": {
    "name": "ipython",
    "version": 3
   },
   "file_extension": ".py",
   "mimetype": "text/x-python",
   "name": "python",
   "nbconvert_exporter": "python",
   "pygments_lexer": "ipython3",
   "version": "3.12.0"
  }
 },
 "nbformat": 4,
 "nbformat_minor": 2
}
