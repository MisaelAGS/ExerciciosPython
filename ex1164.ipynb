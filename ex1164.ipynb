{
 "cells": [
  {
   "cell_type": "code",
   "execution_count": 1,
   "metadata": {},
   "outputs": [
    {
     "name": "stdout",
     "output_type": "stream",
     "text": [
      "6 eh perfeito\n",
      "5 nao eh perfeito\n",
      "28 eh perfeito\n"
     ]
    }
   ],
   "source": [
    "N = int(input())\n",
    "soma = 0\n",
    "for i in range(N):\n",
    "    num = int(input())\n",
    "    for i in range(1, num):\n",
    "        if(num % i == 0):\n",
    "            soma += i\n",
    "    if(num == soma):\n",
    "        print(f'{num} eh perfeito')\n",
    "    else:\n",
    "        print(f'{num} nao eh perfeito')\n",
    "    soma = 0"
   ]
  }
 ],
 "metadata": {
  "kernelspec": {
   "display_name": "Python 3",
   "language": "python",
   "name": "python3"
  },
  "language_info": {
   "codemirror_mode": {
    "name": "ipython",
    "version": 3
   },
   "file_extension": ".py",
   "mimetype": "text/x-python",
   "name": "python",
   "nbconvert_exporter": "python",
   "pygments_lexer": "ipython3",
   "version": "3.12.0"
  }
 },
 "nbformat": 4,
 "nbformat_minor": 2
}
