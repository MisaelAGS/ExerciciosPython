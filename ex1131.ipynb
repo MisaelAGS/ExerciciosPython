{
 "cells": [
  {
   "cell_type": "code",
   "execution_count": 4,
   "metadata": {},
   "outputs": [
    {
     "name": "stdout",
     "output_type": "stream",
     "text": [
      "Novo grenal (1-sim 2-nao)\n",
      "Novo grenal (1-sim 2-nao)\n",
      "Novo grenal (1-sim 2-nao)\n",
      "3 grenais\n",
      "Inter:2\n",
      "Gremio:1\n",
      "Empates:0\n",
      "Inter venceu mais\n"
     ]
    }
   ],
   "source": [
    "vitorias_Inter = 0\n",
    "vitorias_Gremio = 0\n",
    "empates = 0\n",
    "qtd_grenais = 1\n",
    "while True:\n",
    "    gols_inter, gols_gremio = map(int, input().split())\n",
    "    if(gols_inter > gols_gremio):\n",
    "        vitorias_Inter += 1\n",
    "    elif(gols_gremio > gols_inter):\n",
    "        vitorias_Gremio +=1\n",
    "    else:\n",
    "        empates += 1\n",
    "    print('Novo grenal (1-sim 2-nao)')\n",
    "    X = int(input())\n",
    "    if(X == 2):\n",
    "        break\n",
    "    else:\n",
    "        qtd_grenais += 1\n",
    "if(vitorias_Inter > vitorias_Gremio):\n",
    "    maior_ganhador = 'Inter venceu mais'\n",
    "elif(vitorias_Gremio > vitorias_Inter):\n",
    "    maior_ganhador = 'Gremio venceu mais'\n",
    "else:\n",
    "    maior_ganhador = 'Nao houve vencendor'\n",
    "print(f'{qtd_grenais} grenais')\n",
    "print(f'Inter:{vitorias_Inter}')\n",
    "print(f'Gremio:{vitorias_Gremio}')\n",
    "print(f'Empates:{empates}')\n",
    "print(maior_ganhador)\n"
   ]
  }
 ],
 "metadata": {
  "kernelspec": {
   "display_name": "Python 3",
   "language": "python",
   "name": "python3"
  },
  "language_info": {
   "codemirror_mode": {
    "name": "ipython",
    "version": 3
   },
   "file_extension": ".py",
   "mimetype": "text/x-python",
   "name": "python",
   "nbconvert_exporter": "python",
   "pygments_lexer": "ipython3",
   "version": "3.12.0"
  }
 },
 "nbformat": 4,
 "nbformat_minor": 2
}
