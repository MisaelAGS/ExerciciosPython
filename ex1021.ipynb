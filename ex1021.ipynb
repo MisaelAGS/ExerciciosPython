{
 "cells": [
  {
   "cell_type": "code",
   "execution_count": 3,
   "metadata": {},
   "outputs": [
    {
     "name": "stdout",
     "output_type": "stream",
     "text": [
      "NOTAS:\n",
      "5 nota(s) de R$ 100.00\n",
      "1 nota(s) de R$ 50.00\n",
      "1 nota(s) de R$ 20.00\n",
      "0 nota(s) de R$ 10.00\n",
      "1 nota(s) de R$ 5.00\n",
      "0 nota(s) de R$ 2.00\n",
      "MOEDAS:\n",
      "1 moeda(s) de R$ 1.00\n",
      "1 moeda(s) de R$ 0.50\n",
      "0 moeda(s) de R$ 0.25\n",
      "2 moeda(s) de R$ 0.10\n",
      "0 moeda(s) de R$ 0.05\n",
      "3 moeda(s) de R$ 0.01\n"
     ]
    }
   ],
   "source": [
    "valor = float(input())\n",
    "notas_100 = valor // 100\n",
    "valor -= notas_100 * 100\n",
    "notas_50 = valor // 50\n",
    "valor -= notas_50 * 50\n",
    "notas_20 = valor // 20\n",
    "valor -= notas_20 * 20\n",
    "notas_10 = valor // 10\n",
    "valor -= notas_10 * 10\n",
    "notas_5 = valor // 5\n",
    "valor -= notas_5 * 5\n",
    "notas_2 = valor // 2\n",
    "valor -= notas_2 * 2\n",
    "moedas_1 = valor // 1\n",
    "valor -= moedas_1 * 1\n",
    "moedas_0_50 = valor // 0.5\n",
    "valor -= moedas_0_50 * 0.5\n",
    "moedas_0_25 = valor // 0.25\n",
    "valor -= moedas_0_25 * 0.25\n",
    "moedas_0_10 = valor // 0.1\n",
    "valor -= moedas_0_10 * 0.1\n",
    "moedas_0_05 = valor // 0.05\n",
    "valor -= moedas_0_05 * 0.05\n",
    "moedas_0_01 = valor // 0.01\n",
    "print('NOTAS:')\n",
    "print(f'{int(notas_100)} nota(s) de R$ 100.00')\n",
    "print(f'{int(notas_50)} nota(s) de R$ 50.00')\n",
    "print(f'{int(notas_20)} nota(s) de R$ 20.00')\n",
    "print(f'{int(notas_10)} nota(s) de R$ 10.00')\n",
    "print(f'{int(notas_5)} nota(s) de R$ 5.00')\n",
    "print(f'{int(notas_2)} nota(s) de R$ 2.00')\n",
    "print('MOEDAS:')\n",
    "print(f'{int(moedas_1)} moeda(s) de R$ 1.00')\n",
    "print(f'{int(moedas_0_50)} moeda(s) de R$ 0.50')\n",
    "print(f'{int(moedas_0_25)} moeda(s) de R$ 0.25')\n",
    "print(f'{int(moedas_0_10)} moeda(s) de R$ 0.10')\n",
    "print(f'{int(moedas_0_05)} moeda(s) de R$ 0.05')\n",
    "print(f'{int(moedas_0_01)} moeda(s) de R$ 0.01')\n"
   ]
  }
 ],
 "metadata": {
  "kernelspec": {
   "display_name": "Python 3",
   "language": "python",
   "name": "python3"
  },
  "language_info": {
   "codemirror_mode": {
    "name": "ipython",
    "version": 3
   },
   "file_extension": ".py",
   "mimetype": "text/x-python",
   "name": "python",
   "nbconvert_exporter": "python",
   "pygments_lexer": "ipython3",
   "version": "3.12.0"
  }
 },
 "nbformat": 4,
 "nbformat_minor": 2
}
