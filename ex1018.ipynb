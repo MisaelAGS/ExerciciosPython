{
 "cells": [
  {
   "cell_type": "code",
   "execution_count": 14,
   "metadata": {},
   "outputs": [
    {
     "name": "stdout",
     "output_type": "stream",
     "text": [
      "503\n",
      "5 nota (s) de R$ 100,00\n",
      "0 nota (s) de R$ 50,00\n",
      "0 nota (s) de R$ 20,00\n",
      "0 nota (s) de R$ 10,00\n",
      "0 nota (s) de R$ 5,00\n",
      "1 nota (s) de R$ 2,00\n",
      "1 nota (s) de R$ 1,00\n"
     ]
    }
   ],
   "source": [
    "numero = int(input())\n",
    "print(f'{numero}')\n",
    "qtd_cedulas_100 = numero // 100\n",
    "numero = numero - (qtd_cedulas_100 * 100)\n",
    "qtd_cedulas_50 = numero // 50\n",
    "numero = numero - (qtd_cedulas_50 * 50)\n",
    "qtd_cedulas_20 = numero // 20\n",
    "numero = numero - (qtd_cedulas_20 * 20)\n",
    "qtd_cedulas_10 = numero // 10\n",
    "numero = numero - (qtd_cedulas_10 * 10)\n",
    "qtd_cedulas_5 = numero // 5\n",
    "numero = numero - (qtd_cedulas_5 * 5)\n",
    "qtd_cedulas_2 = numero // 2\n",
    "numero = numero - (qtd_cedulas_2 * 2)\n",
    "qtd_cedulas_1 = numero // 1\n",
    "print(f'{qtd_cedulas_100} nota(s) de R$ 100,00')\n",
    "print(f'{qtd_cedulas_50} nota(s) de R$ 50,00')\n",
    "print(f'{qtd_cedulas_20} nota(s) de R$ 20,00')\n",
    "print(f'{qtd_cedulas_10} nota(s) de R$ 10,00')\n",
    "print(f'{qtd_cedulas_5} nota(s) de R$ 5,00')\n",
    "print(f'{qtd_cedulas_2} nota(s) de R$ 2,00')\n",
    "print(f'{qtd_cedulas_1} nota(s) de R$ 1,00')"
   ]
  }
 ],
 "metadata": {
  "kernelspec": {
   "display_name": "Python 3",
   "language": "python",
   "name": "python3"
  },
  "language_info": {
   "codemirror_mode": {
    "name": "ipython",
    "version": 3
   },
   "file_extension": ".py",
   "mimetype": "text/x-python",
   "name": "python",
   "nbconvert_exporter": "python",
   "pygments_lexer": "ipython3",
   "version": "3.12.0"
  }
 },
 "nbformat": 4,
 "nbformat_minor": 2
}
