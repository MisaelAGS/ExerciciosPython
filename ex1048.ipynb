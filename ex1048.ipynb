{
 "cells": [
  {
   "cell_type": "code",
   "execution_count": 7,
   "metadata": {},
   "outputs": [
    {
     "name": "stdout",
     "output_type": "stream",
     "text": [
      "Novo salario = 460.00\n",
      "Reajuste ganho = 60.00\n",
      "Em percentual: 15 %\n"
     ]
    }
   ],
   "source": [
    "salario_inicial = float(input())\n",
    "if(salario_inicial <= 400.00):\n",
    "    reajuste_percentual = 15\n",
    "elif(salario_inicial <= 800.00):\n",
    "    reajuste_percentual = 12\n",
    "elif(salario_inicial <= 1200.00):\n",
    "    reajuste_percentual = 10\n",
    "elif(salario_inicial <= 2000.00):\n",
    "    reajuste_percentual = 7\n",
    "else:\n",
    "    reajuste_percentual = 4\n",
    "reajuste_ganho = salario_inicial * (reajuste_percentual / 100)\n",
    "novo_salario = salario_inicial + reajuste_ganho\n",
    "print(f'Novo salario: {novo_salario:.2f}')\n",
    "print(f'Reajuste ganho: {reajuste_ganho:.2f}')\n",
    "print(f'Em percentual: {reajuste_percentual} %')"
   ]
  }
 ],
 "metadata": {
  "kernelspec": {
   "display_name": "Python 3",
   "language": "python",
   "name": "python3"
  },
  "language_info": {
   "codemirror_mode": {
    "name": "ipython",
    "version": 3
   },
   "file_extension": ".py",
   "mimetype": "text/x-python",
   "name": "python",
   "nbconvert_exporter": "python",
   "pygments_lexer": "ipython3",
   "version": "3.12.0"
  }
 },
 "nbformat": 4,
 "nbformat_minor": 2
}
