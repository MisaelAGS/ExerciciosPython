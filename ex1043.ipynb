{
 "cells": [
  {
   "cell_type": "code",
   "execution_count": 2,
   "metadata": {},
   "outputs": [
    {
     "name": "stdout",
     "output_type": "stream",
     "text": [
      "Perimetro = 12.1\n"
     ]
    }
   ],
   "source": [
    "A, B, C = map(float, input().split())\n",
    "if( B + C > A and A + C > B and A + B > C):\n",
    "    perimetro = A + B + C\n",
    "    print(f'Perimetro = {perimetro:.1f}')\n",
    "else:\n",
    "    area = (A + B) * C / 2\n",
    "    print(f'Area = {area:.1f}')"
   ]
  }
 ],
 "metadata": {
  "kernelspec": {
   "display_name": "Python 3",
   "language": "python",
   "name": "python3"
  },
  "language_info": {
   "codemirror_mode": {
    "name": "ipython",
    "version": 3
   },
   "file_extension": ".py",
   "mimetype": "text/x-python",
   "name": "python",
   "nbconvert_exporter": "python",
   "pygments_lexer": "ipython3",
   "version": "3.12.0"
  }
 },
 "nbformat": 4,
 "nbformat_minor": 2
}
