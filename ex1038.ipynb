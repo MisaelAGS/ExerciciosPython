{
 "cells": [
  {
   "cell_type": "code",
   "execution_count": 3,
   "metadata": {},
   "outputs": [
    {
     "name": "stdout",
     "output_type": "stream",
     "text": [
      "Total: R$ 13.50\n"
     ]
    }
   ],
   "source": [
    "cod_item, qtd_item = map(int, input().split())\n",
    "if(cod_item == 1):\n",
    "    vlr_item = 4.00\n",
    "elif(cod_item == 2):\n",
    "    vlr_item = 4.50\n",
    "elif(cod_item == 3):\n",
    "    vlr_item = 5.00\n",
    "elif(cod_item == 4):\n",
    "    vlr_item = 2.00\n",
    "elif(cod_item == 5):\n",
    "    vlr_item = 1.50\n",
    "vlr_total = qtd_item * vlr_item\n",
    "print(f'Total: R$ {vlr_total:.2f}')"
   ]
  }
 ],
 "metadata": {
  "kernelspec": {
   "display_name": "Python 3",
   "language": "python",
   "name": "python3"
  },
  "language_info": {
   "codemirror_mode": {
    "name": "ipython",
    "version": 3
   },
   "file_extension": ".py",
   "mimetype": "text/x-python",
   "name": "python",
   "nbconvert_exporter": "python",
   "pygments_lexer": "ipython3",
   "version": "3.12.0"
  }
 },
 "nbformat": 4,
 "nbformat_minor": 2
}
