{
 "cells": [
  {
   "cell_type": "code",
   "execution_count": 5,
   "metadata": {},
   "outputs": [
    {
     "name": "stdout",
     "output_type": "stream",
     "text": [
      "97 e a\n",
      "98 e b\n",
      "99 e c\n",
      "100 e d\n",
      "101 e e\n",
      "102 e f\n",
      "103 e g\n",
      "104 e h\n",
      "105 e i\n",
      "106 e j\n",
      "107 e k\n",
      "108 e l\n",
      "109 e m\n",
      "110 e n\n",
      "111 e o\n",
      "112 e p\n",
      "113 e q\n",
      "114 e r\n",
      "115 e s\n",
      "116 e t\n",
      "117 e u\n",
      "118 e v\n",
      "119 e w\n",
      "120 e x\n",
      "121 e y\n",
      "122 e z\n"
     ]
    }
   ],
   "source": [
    "alfabeto = ['a', 'b', 'c', 'd', 'e', 'f', 'g', 'h', 'i', 'j', 'k', 'l', 'm', 'n', 'o', 'p', 'q', 'r', 's', 't', 'u', 'v', 'w', 'x', 'y', 'z']\n",
    "num = 97\n",
    "for i in alfabeto:\n",
    "    print('{} {} {}'.format(num, 'e', i))\n",
    "    num += 1"
   ]
  }
 ],
 "metadata": {
  "kernelspec": {
   "display_name": "Python 3",
   "language": "python",
   "name": "python3"
  },
  "language_info": {
   "codemirror_mode": {
    "name": "ipython",
    "version": 3
   },
   "file_extension": ".py",
   "mimetype": "text/x-python",
   "name": "python",
   "nbconvert_exporter": "python",
   "pygments_lexer": "ipython3",
   "version": "3.12.0"
  }
 },
 "nbformat": 4,
 "nbformat_minor": 2
}
