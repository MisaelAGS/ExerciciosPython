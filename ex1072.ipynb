{
 "cells": [
  {
   "cell_type": "code",
   "execution_count": 6,
   "metadata": {},
   "outputs": [
    {
     "name": "stdout",
     "output_type": "stream",
     "text": [
      "1 in\n",
      "0 out\n"
     ]
    }
   ],
   "source": [
    "N = int(input())\n",
    "qtd_in = 0\n",
    "qtd_out = 0\n",
    "for i in range(N):\n",
    "    X = int(input())\n",
    "    if(10 <= X <= 20):\n",
    "        qtd_in += 1\n",
    "    else:\n",
    "        qtd_out += 1\n",
    "print(f'{qtd_in} in')\n",
    "print(f'{qtd_out} out')"
   ]
  }
 ],
 "metadata": {
  "kernelspec": {
   "display_name": "Python 3",
   "language": "python",
   "name": "python3"
  },
  "language_info": {
   "codemirror_mode": {
    "name": "ipython",
    "version": 3
   },
   "file_extension": ".py",
   "mimetype": "text/x-python",
   "name": "python",
   "nbconvert_exporter": "python",
   "pygments_lexer": "ipython3",
   "version": "3.12.0"
  }
 },
 "nbformat": 4,
 "nbformat_minor": 2
}
