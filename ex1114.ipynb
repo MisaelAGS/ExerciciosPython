{
 "cells": [
  {
   "cell_type": "code",
   "execution_count": 1,
   "metadata": {},
   "outputs": [
    {
     "name": "stdout",
     "output_type": "stream",
     "text": [
      "Senha Invalida\n",
      "Senha Invalida\n",
      "Senha Invalida\n",
      "Acesso Permitido\n"
     ]
    }
   ],
   "source": [
    "senha_correta = 2002\n",
    "senha_digitada = int(input())\n",
    "while(senha_digitada != senha_correta):\n",
    "    print('Senha Invalida')\n",
    "    senha_digitada = int(input())\n",
    "print('Acesso Permitido')"
   ]
  }
 ],
 "metadata": {
  "kernelspec": {
   "display_name": "Python 3",
   "language": "python",
   "name": "python3"
  },
  "language_info": {
   "codemirror_mode": {
    "name": "ipython",
    "version": 3
   },
   "file_extension": ".py",
   "mimetype": "text/x-python",
   "name": "python",
   "nbconvert_exporter": "python",
   "pygments_lexer": "ipython3",
   "version": "3.12.0"
  }
 },
 "nbformat": 4,
 "nbformat_minor": 2
}
