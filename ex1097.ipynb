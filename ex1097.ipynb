{
 "cells": [
  {
   "cell_type": "code",
   "execution_count": 8,
   "metadata": {},
   "outputs": [
    {
     "name": "stdout",
     "output_type": "stream",
     "text": [
      "I=1 J=7\n",
      "I=1 J=6\n",
      "I=1 J=5\n",
      "I=3 J=9\n",
      "I=3 J=8\n",
      "I=3 J=7\n",
      "I=5 J=11\n",
      "I=5 J=10\n",
      "I=5 J=9\n",
      "I=7 J=13\n",
      "I=7 J=12\n",
      "I=7 J=11\n",
      "I=9 J=15\n",
      "I=9 J=14\n",
      "I=9 J=13\n"
     ]
    }
   ],
   "source": [
    "valor_inicial = 7\n",
    "valor_final = 4\n",
    "I = 1\n",
    "for i in range(5):\n",
    "    for J in range(valor_inicial, valor_final, -1):\n",
    "        print(f'I={I} J={J}')\n",
    "    I += 2\n",
    "    valor_inicial += 2\n",
    "    valor_final += 2"
   ]
  }
 ],
 "metadata": {
  "kernelspec": {
   "display_name": "Python 3",
   "language": "python",
   "name": "python3"
  },
  "language_info": {
   "codemirror_mode": {
    "name": "ipython",
    "version": 3
   },
   "file_extension": ".py",
   "mimetype": "text/x-python",
   "name": "python",
   "nbconvert_exporter": "python",
   "pygments_lexer": "ipython3",
   "version": "3.12.0"
  }
 },
 "nbformat": 4,
 "nbformat_minor": 2
}
