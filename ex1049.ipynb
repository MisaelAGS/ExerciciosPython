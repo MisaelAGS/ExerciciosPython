{
 "cells": [
  {
   "cell_type": "code",
   "execution_count": 3,
   "metadata": {},
   "outputs": [
    {
     "name": "stdout",
     "output_type": "stream",
     "text": [
      "minhoca\n"
     ]
    }
   ],
   "source": [
    "atributo_1 = input()\n",
    "atributo_2 = input()\n",
    "atributo_3 = input()\n",
    "if(atributo_1 == 'vertebrado'):\n",
    "    if(atributo_2 == 'ave'):\n",
    "        if(atributo_3 == 'carnivoro'):\n",
    "            animal = 'aguia'\n",
    "        else:\n",
    "            animal = 'pomba'\n",
    "    else:\n",
    "        if(atributo_3 == 'onivoro'):\n",
    "            animal = 'homem'\n",
    "        else:\n",
    "            animal = 'vaca'\n",
    "else:\n",
    "    if(atributo_2 == 'inseto'):\n",
    "        if(atributo_3 == 'hematofago'):\n",
    "            animal = 'pulga'\n",
    "        else:\n",
    "            animal = 'lagarta'\n",
    "    else:\n",
    "        if(atributo_3 == 'hematofago'):\n",
    "            animal = 'sanguessuga'\n",
    "        else:\n",
    "            animal = 'minhoca'\n",
    "print(animal)"
   ]
  }
 ],
 "metadata": {
  "kernelspec": {
   "display_name": "Python 3",
   "language": "python",
   "name": "python3"
  },
  "language_info": {
   "codemirror_mode": {
    "name": "ipython",
    "version": 3
   },
   "file_extension": ".py",
   "mimetype": "text/x-python",
   "name": "python",
   "nbconvert_exporter": "python",
   "pygments_lexer": "ipython3",
   "version": "3.12.0"
  }
 },
 "nbformat": 4,
 "nbformat_minor": 2
}
