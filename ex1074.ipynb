{
 "cells": [
  {
   "cell_type": "code",
   "execution_count": 1,
   "metadata": {},
   "outputs": [
    {
     "name": "stdout",
     "output_type": "stream",
     "text": [
      "ODD NEGATIVE\n",
      "NULL\n",
      "ODD POSITIVE\n",
      "EVEN NEGATIVE\n"
     ]
    }
   ],
   "source": [
    "N = int(input())\n",
    "for i in range(N):\n",
    "    X = int(input())\n",
    "    if(X != 0):\n",
    "        if(X % 2 == 0):\n",
    "            par_ou_impar = 'EVEN'\n",
    "        elif(X % 2 != 0):\n",
    "            par_ou_impar = 'ODD'\n",
    "        if(X > 0):\n",
    "            positivo_ou_negativo = 'POSITIVE'\n",
    "        elif(X < 0):\n",
    "            positivo_ou_negativo = 'NEGATIVE'\n",
    "        print(f'{par_ou_impar} {positivo_ou_negativo}')\n",
    "    else:\n",
    "        print('NULL')\n"
   ]
  }
 ],
 "metadata": {
  "kernelspec": {
   "display_name": "Python 3",
   "language": "python",
   "name": "python3"
  },
  "language_info": {
   "codemirror_mode": {
    "name": "ipython",
    "version": 3
   },
   "file_extension": ".py",
   "mimetype": "text/x-python",
   "name": "python",
   "nbconvert_exporter": "python",
   "pygments_lexer": "ipython3",
   "version": "3.12.0"
  }
 },
 "nbformat": 4,
 "nbformat_minor": 2
}
