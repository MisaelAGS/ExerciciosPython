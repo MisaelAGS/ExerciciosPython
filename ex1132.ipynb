{
 "cells": [
  {
   "cell_type": "code",
   "execution_count": 4,
   "metadata": {},
   "outputs": [
    {
     "name": "stdout",
     "output_type": "stream",
     "text": [
      "13954\n"
     ]
    }
   ],
   "source": [
    "X = int(input())\n",
    "Y = int(input())\n",
    "nao_multiplos = []\n",
    "maior_valor = ((X + Y + (abs(X - Y))) / 2)\n",
    "menor_valor = ((X + Y - (abs(X - Y))) / 2) \n",
    "for i in range(int(menor_valor), int(maior_valor + 1)):\n",
    "    if(not(i % 13 == 0)):\n",
    "        nao_multiplos.append(i)\n",
    "print(sum(nao_multiplos))"
   ]
  }
 ],
 "metadata": {
  "kernelspec": {
   "display_name": "Python 3",
   "language": "python",
   "name": "python3"
  },
  "language_info": {
   "codemirror_mode": {
    "name": "ipython",
    "version": 3
   },
   "file_extension": ".py",
   "mimetype": "text/x-python",
   "name": "python",
   "nbconvert_exporter": "python",
   "pygments_lexer": "ipython3",
   "version": "3.12.0"
  }
 },
 "nbformat": 4,
 "nbformat_minor": 2
}
