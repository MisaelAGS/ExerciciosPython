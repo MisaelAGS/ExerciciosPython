{
 "cells": [
  {
   "cell_type": "code",
   "execution_count": 5,
   "metadata": {},
   "outputs": [
    {
     "name": "stdout",
     "output_type": "stream",
     "text": [
      "Q1\n"
     ]
    }
   ],
   "source": [
    "x, y = map(float, input().split())\n",
    "#x = float(input())\n",
    "#y = float(input())\n",
    "if(x == 0 and y == 0):\n",
    "    print('Origem')\n",
    "elif(x == 0):\n",
    "    print('Eixo Y')\n",
    "elif(y == 0):\n",
    "    print('Eixo X')\n",
    "elif(x > 0 and y > 0):\n",
    "    print('Q1')\n",
    "elif(x > 0 and y < 0):\n",
    "    print('Q4')\n",
    "elif(x < 0 and y > 0):\n",
    "    print('Q2')\n",
    "elif(x < 0 and y < 0):\n",
    "    print('Q3')\n",
    "    \n"
   ]
  }
 ],
 "metadata": {
  "kernelspec": {
   "display_name": "Python 3",
   "language": "python",
   "name": "python3"
  },
  "language_info": {
   "codemirror_mode": {
    "name": "ipython",
    "version": 3
   },
   "file_extension": ".py",
   "mimetype": "text/x-python",
   "name": "python",
   "nbconvert_exporter": "python",
   "pygments_lexer": "ipython3",
   "version": "3.12.0"
  }
 },
 "nbformat": 4,
 "nbformat_minor": 2
}
