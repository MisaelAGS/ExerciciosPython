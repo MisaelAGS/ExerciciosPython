{
 "cells": [
  {
   "cell_type": "code",
   "execution_count": 11,
   "metadata": {},
   "outputs": [
    {
     "name": "stdout",
     "output_type": "stream",
     "text": [
      "5 valor(es) par(es)\n",
      "0 valor(es) impar(es)\n",
      "0 valor(es) positivo(s)\n",
      "0 valor(es) negativos(s)\n"
     ]
    }
   ],
   "source": [
    "qtd_pares = 0\n",
    "qtd_impares = 0\n",
    "qtd_positivo = 0\n",
    "qtd_negativo = 0\n",
    "for i in range(5):\n",
    "    i = int(input())\n",
    "    if(i > 0):\n",
    "        qtd_positivo += 1\n",
    "    elif(i < 0):\n",
    "        qtd_negativo += 1\n",
    "    if(i % 2 == 0):\n",
    "        qtd_pares += 1\n",
    "    else:\n",
    "        qtd_impares += 1\n",
    "print(f'{qtd_pares} valor(es) par(es)')\n",
    "print(f'{qtd_impares} valor(es) impar(es)')\n",
    "print(f'{qtd_positivo} valor(es) positivo(s)')\n",
    "print(f'{qtd_negativo} valor(es) negativo(s)')"
   ]
  }
 ],
 "metadata": {
  "kernelspec": {
   "display_name": "Python 3",
   "language": "python",
   "name": "python3"
  },
  "language_info": {
   "codemirror_mode": {
    "name": "ipython",
    "version": 3
   },
   "file_extension": ".py",
   "mimetype": "text/x-python",
   "name": "python",
   "nbconvert_exporter": "python",
   "pygments_lexer": "ipython3",
   "version": "3.12.0"
  }
 },
 "nbformat": 4,
 "nbformat_minor": 2
}
