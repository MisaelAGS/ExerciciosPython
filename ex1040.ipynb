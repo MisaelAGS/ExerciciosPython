{
 "cells": [
  {
   "cell_type": "code",
   "execution_count": 7,
   "metadata": {},
   "outputs": [
    {
     "name": "stdout",
     "output_type": "stream",
     "text": [
      "Media: 5.4\n",
      "Aluno em exame.\n",
      "Nota do exame: 6.4\n",
      "Aluno aprovado.\n",
      "Media final: 5.9\n"
     ]
    }
   ],
   "source": [
    "n1, n2, n3, n4 = map(float, input().split())\n",
    "p1 = 2\n",
    "p2 = 3\n",
    "p3 = 4\n",
    "p4 = 1\n",
    "media = ((n1 * p1) + (n2 * p2) + (n3 * p3) + (n4 * p4)) / (p1 + p2 + p3 + p4)\n",
    "print(f'Media: {media:.1f}')\n",
    "if(media < 5.0):\n",
    "    print('Aluno reprovado.')\n",
    "elif(5.0 <= media <= 6.9):\n",
    "    print('Aluno em exame.')\n",
    "    n_exame = float(input())\n",
    "    print(f'Nota do exame: {n_exame:.1f}')\n",
    "    media_final = (media + n_exame) / 2\n",
    "    if(media_final >= 5.0):\n",
    "        print('Aluno aprovado.')\n",
    "    else:\n",
    "        print('Aluno reprovado.')\n",
    "    print(f'Media final: {media_final:.1f}')\n",
    "elif(media >= 7.0):\n",
    "    print('Aluno aprovado.')"
   ]
  }
 ],
 "metadata": {
  "kernelspec": {
   "display_name": "Python 3",
   "language": "python",
   "name": "python3"
  },
  "language_info": {
   "codemirror_mode": {
    "name": "ipython",
    "version": 3
   },
   "file_extension": ".py",
   "mimetype": "text/x-python",
   "name": "python",
   "nbconvert_exporter": "python",
   "pygments_lexer": "ipython3",
   "version": "3.12.0"
  }
 },
 "nbformat": 4,
 "nbformat_minor": 2
}
