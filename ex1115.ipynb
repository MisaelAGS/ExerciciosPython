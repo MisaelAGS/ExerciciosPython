{
 "cells": [
  {
   "cell_type": "code",
   "execution_count": 7,
   "metadata": {},
   "outputs": [
    {
     "name": "stdout",
     "output_type": "stream",
     "text": [
      "primeiro\n"
     ]
    }
   ],
   "source": [
    "X, Y = map(int, input().split())\n",
    "while (X != 0 or Y != 0):\n",
    "    if(X > 0 and Y > 0):\n",
    "        print('primeiro')\n",
    "    elif(X < 0 and Y > 0):\n",
    "        print('segundo')\n",
    "    elif(X < 0 and Y < 0):\n",
    "        print('terceiro')\n",
    "    elif(X > 0 and Y < 0):\n",
    "        print('quarto')\n",
    "    X, Y = map(int, input().split())"
   ]
  }
 ],
 "metadata": {
  "kernelspec": {
   "display_name": "Python 3",
   "language": "python",
   "name": "python3"
  },
  "language_info": {
   "codemirror_mode": {
    "name": "ipython",
    "version": 3
   },
   "file_extension": ".py",
   "mimetype": "text/x-python",
   "name": "python",
   "nbconvert_exporter": "python",
   "pygments_lexer": "ipython3",
   "version": "3.12.0"
  }
 },
 "nbformat": 4,
 "nbformat_minor": 2
}
