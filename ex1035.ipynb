{
 "cells": [
  {
   "cell_type": "code",
   "execution_count": 2,
   "metadata": {},
   "outputs": [
    {
     "name": "stdout",
     "output_type": "stream",
     "text": [
      "Valores aceitos\n"
     ]
    }
   ],
   "source": [
    "A, B, C, D = map(int, input().split())\n",
    "if(B > C and D > A and (C + D) > (A + B) and C > 0 and D > 0 and A % 2 == 0):\n",
    "    print('Valores aceitos')\n",
    "else:\n",
    "    print('Valores nao aceitos')\n"
   ]
  }
 ],
 "metadata": {
  "kernelspec": {
   "display_name": "Python 3",
   "language": "python",
   "name": "python3"
  },
  "language_info": {
   "codemirror_mode": {
    "name": "ipython",
    "version": 3
   },
   "file_extension": ".py",
   "mimetype": "text/x-python",
   "name": "python",
   "nbconvert_exporter": "python",
   "pygments_lexer": "ipython3",
   "version": "3.12.0"
  }
 },
 "nbformat": 4,
 "nbformat_minor": 2
}
