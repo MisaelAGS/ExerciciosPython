{
 "cells": [
  {
   "cell_type": "code",
   "execution_count": 7,
   "metadata": {},
   "outputs": [
    {
     "name": "stdout",
     "output_type": "stream",
     "text": [
      "Fora de intervalo\n"
     ]
    }
   ],
   "source": [
    "valor = float(input())\n",
    "if(0 <= valor <= 25):\n",
    "    print('Intervalo [0,25]')\n",
    "elif(25 < valor <= 50):\n",
    "    print('Intervalo (25,50]')\n",
    "elif(50 < valor <= 75):\n",
    "    print('Intervalo (50,75]')\n",
    "elif(75 < valor <= 100 ):\n",
    "    print('Intervalo (75,100]')\n",
    "else:\n",
    "    print('Fora de intervalo')"
   ]
  }
 ],
 "metadata": {
  "kernelspec": {
   "display_name": "Python 3",
   "language": "python",
   "name": "python3"
  },
  "language_info": {
   "codemirror_mode": {
    "name": "ipython",
    "version": 3
   },
   "file_extension": ".py",
   "mimetype": "text/x-python",
   "name": "python",
   "nbconvert_exporter": "python",
   "pygments_lexer": "ipython3",
   "version": "3.12.0"
  }
 },
 "nbformat": 4,
 "nbformat_minor": 2
}
