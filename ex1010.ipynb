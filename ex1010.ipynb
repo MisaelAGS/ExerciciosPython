{
 "cells": [
  {
   "cell_type": "code",
   "execution_count": 4,
   "metadata": {},
   "outputs": [
    {
     "name": "stdout",
     "output_type": "stream",
     "text": [
      "VALOR A PAGAR: R$ 30.20\n"
     ]
    }
   ],
   "source": [
    "cod_peca_1 = int(input())\n",
    "qtd_peca_1 = int(input())\n",
    "vlr_peca_1 = float(input())\n",
    "cod_peca_2 = int(input())\n",
    "qtd_peca_2 = int(input())\n",
    "vlr_peca_2 = float(input())\n",
    "vlr_a_pagar = (qtd_peca_1 * vlr_peca_1) + (qtd_peca_2 * vlr_peca_2)\n",
    "print(f'VALOR A PAGAR: R$ {vlr_a_pagar:.2f}')"
   ]
  }
 ],
 "metadata": {
  "kernelspec": {
   "display_name": "Python 3",
   "language": "python",
   "name": "python3"
  },
  "language_info": {
   "codemirror_mode": {
    "name": "ipython",
    "version": 3
   },
   "file_extension": ".py",
   "mimetype": "text/x-python",
   "name": "python",
   "nbconvert_exporter": "python",
   "pygments_lexer": "ipython3",
   "version": "3.12.0"
  }
 },
 "nbformat": 4,
 "nbformat_minor": 2
}
