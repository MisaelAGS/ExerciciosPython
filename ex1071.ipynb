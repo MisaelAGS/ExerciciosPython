{
 "cells": [
  {
   "cell_type": "code",
   "execution_count": 40,
   "metadata": {},
   "outputs": [
    {
     "name": "stdout",
     "output_type": "stream",
     "text": [
      "0\n"
     ]
    }
   ],
   "source": [
    "X = int(input()) # 6\n",
    "Y = int(input()) # -5\n",
    "soma_impares = 0\n",
    "num_menor = ((X + Y - (abs(X - Y))) / 2)\n",
    "num_maior = ((X + Y + (abs(X-Y))) / 2)\n",
    "if(num_menor < 0):\n",
    "    num_menor += 1\n",
    "for i in range(int(num_menor), int(num_maior)):\n",
    "    if(i % 2 != 0):\n",
    "        soma_impares +=i\n",
    "print(soma_impares)"
   ]
  }
 ],
 "metadata": {
  "kernelspec": {
   "display_name": "Python 3",
   "language": "python",
   "name": "python3"
  },
  "language_info": {
   "codemirror_mode": {
    "name": "ipython",
    "version": 3
   },
   "file_extension": ".py",
   "mimetype": "text/x-python",
   "name": "python",
   "nbconvert_exporter": "python",
   "pygments_lexer": "ipython3",
   "version": "3.12.0"
  }
 },
 "nbformat": 4,
 "nbformat_minor": 2
}
