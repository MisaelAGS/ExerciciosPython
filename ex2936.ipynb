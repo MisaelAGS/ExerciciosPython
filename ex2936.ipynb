{
 "cells": [
  {
   "cell_type": "code",
   "execution_count": 5,
   "metadata": {},
   "outputs": [
    {
     "name": "stdout",
     "output_type": "stream",
     "text": [
      "7325\n"
     ]
    }
   ],
   "source": [
    "curupira = int(input()) * 300\n",
    "boitata = int(input()) * 1500\n",
    "boto = int(input()) * 600\n",
    "mapinguari = int(input()) * 1000\n",
    "iara = int(input()) * 150\n",
    "chica = 225\n",
    "total = curupira + boitata + boto + mapinguari + iara + chica\n",
    "print(total)"
   ]
  }
 ],
 "metadata": {
  "kernelspec": {
   "display_name": "Python 3",
   "language": "python",
   "name": "python3"
  },
  "language_info": {
   "codemirror_mode": {
    "name": "ipython",
    "version": 3
   },
   "file_extension": ".py",
   "mimetype": "text/x-python",
   "name": "python",
   "nbconvert_exporter": "python",
   "pygments_lexer": "ipython3",
   "version": "3.12.0"
  }
 },
 "nbformat": 4,
 "nbformat_minor": 2
}
