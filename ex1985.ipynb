{
 "cells": [
  {
   "cell_type": "code",
   "execution_count": 3,
   "metadata": {},
   "outputs": [
    {
     "name": "stdout",
     "output_type": "stream",
     "text": [
      "2808.50\n"
     ]
    }
   ],
   "source": [
    "N = int(input())\n",
    "total = 0\n",
    "for i in range(N):\n",
    "    cod_prod, qtd_prod = map(int, input().split())\n",
    "    if(cod_prod == 1001):\n",
    "        preco = 1.50\n",
    "    elif(cod_prod == 1002):\n",
    "        preco = 2.50\n",
    "    elif(cod_prod == 1003):\n",
    "        preco = 3.50\n",
    "    elif(cod_prod == 1004):\n",
    "        preco = 4.50\n",
    "    elif(cod_prod == 1005):\n",
    "        preco = 5.50\n",
    "    total_parcial = qtd_prod * preco\n",
    "    total += total_parcial\n",
    "print(f'{total:.2f}')"
   ]
  }
 ],
 "metadata": {
  "kernelspec": {
   "display_name": "Python 3",
   "language": "python",
   "name": "python3"
  },
  "language_info": {
   "codemirror_mode": {
    "name": "ipython",
    "version": 3
   },
   "file_extension": ".py",
   "mimetype": "text/x-python",
   "name": "python",
   "nbconvert_exporter": "python",
   "pygments_lexer": "ipython3",
   "version": "3.12.0"
  }
 },
 "nbformat": 4,
 "nbformat_minor": 2
}
