{
 "cells": [
  {
   "cell_type": "code",
   "execution_count": 3,
   "metadata": {},
   "outputs": [
    {
     "name": "stdout",
     "output_type": "stream",
     "text": [
      "7 eh primo\n",
      "13 eh primo\n",
      "11 eh primo\n"
     ]
    }
   ],
   "source": [
    "N = int(input())\n",
    "X = 0\n",
    "for i in range(N):\n",
    "    num = int(input())\n",
    "    for i in range(2, num):\n",
    "        if(num % i == 0):\n",
    "            X += 1\n",
    "    if(X > 0):\n",
    "        print(f'{num} nao eh primo')\n",
    "    else:\n",
    "        print(f'{num} eh primo')\n",
    "    X = 0"
   ]
  }
 ],
 "metadata": {
  "kernelspec": {
   "display_name": "Python 3",
   "language": "python",
   "name": "python3"
  },
  "language_info": {
   "codemirror_mode": {
    "name": "ipython",
    "version": 3
   },
   "file_extension": ".py",
   "mimetype": "text/x-python",
   "name": "python",
   "nbconvert_exporter": "python",
   "pygments_lexer": "ipython3",
   "version": "3.12.0"
  }
 },
 "nbformat": 4,
 "nbformat_minor": 2
}
