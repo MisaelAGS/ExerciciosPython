{
 "cells": [
  {
   "cell_type": "code",
   "execution_count": 1,
   "metadata": {},
   "outputs": [
    {
     "name": "stdout",
     "output_type": "stream",
     "text": [
      "April\n"
     ]
    }
   ],
   "source": [
    "num = int(input())\n",
    "if(num == 1):\n",
    "    mes = 'January'\n",
    "elif(num == 2):\n",
    "    mes = 'February'\n",
    "elif(num == 3):\n",
    "    mes = 'March'\n",
    "elif(num == 4):\n",
    "    mes = 'April'\n",
    "elif(num == 5):\n",
    "    mes = 'May'\n",
    "elif(num == 6):\n",
    "    mes = 'June'\n",
    "elif(num == 7):\n",
    "    mes = 'July'\n",
    "elif(num == 8):\n",
    "    mes = 'August'\n",
    "elif(num == 9):\n",
    "    mes = 'September'\n",
    "elif(num == 10):\n",
    "    mes = 'October'\n",
    "elif(num == 11):\n",
    "    mes = 'November'\n",
    "else:\n",
    "    mes = 'December'\n",
    "print(mes)"
   ]
  }
 ],
 "metadata": {
  "kernelspec": {
   "display_name": "Python 3",
   "language": "python",
   "name": "python3"
  },
  "language_info": {
   "codemirror_mode": {
    "name": "ipython",
    "version": 3
   },
   "file_extension": ".py",
   "mimetype": "text/x-python",
   "name": "python",
   "nbconvert_exporter": "python",
   "pygments_lexer": "ipython3",
   "version": "3.12.0"
  }
 },
 "nbformat": 4,
 "nbformat_minor": 2
}
