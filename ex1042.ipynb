{
 "cells": [
  {
   "cell_type": "code",
   "execution_count": 8,
   "metadata": {},
   "outputs": [
    {
     "name": "stdout",
     "output_type": "stream",
     "text": [
      "-14\n",
      "7\n",
      "21\n",
      "\n",
      "-14\n",
      "21\n",
      "7\n"
     ]
    }
   ],
   "source": [
    "X, Y, Z = map(int, input().split())\n",
    "lista = []\n",
    "lista.append(X)\n",
    "lista.append(Y)\n",
    "lista.append(Z)\n",
    "lista_ordenada = sorted(lista)\n",
    "for i in lista_ordenada:\n",
    "    if(i != lista_ordenada[2]):\n",
    "        print(i)\n",
    "    else:\n",
    "        print(f'{i}\\n')\n",
    "for i in lista:\n",
    "    print(i)"
   ]
  }
 ],
 "metadata": {
  "kernelspec": {
   "display_name": "Python 3",
   "language": "python",
   "name": "python3"
  },
  "language_info": {
   "codemirror_mode": {
    "name": "ipython",
    "version": 3
   },
   "file_extension": ".py",
   "mimetype": "text/x-python",
   "name": "python",
   "nbconvert_exporter": "python",
   "pygments_lexer": "ipython3",
   "version": "3.12.0"
  }
 },
 "nbformat": 4,
 "nbformat_minor": 2
}
