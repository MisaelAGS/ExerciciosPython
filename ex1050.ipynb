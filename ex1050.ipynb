{
 "cells": [
  {
   "cell_type": "code",
   "execution_count": 1,
   "metadata": {},
   "outputs": [
    {
     "name": "stdout",
     "output_type": "stream",
     "text": [
      "Sao Paulo\n"
     ]
    }
   ],
   "source": [
    "ddd = int(input())\n",
    "if(ddd == 61):\n",
    "    cidade = 'Brasilia'\n",
    "elif(ddd == 71):\n",
    "    cidade = 'Salvador'\n",
    "elif(ddd == 11):\n",
    "    cidade = 'Sao Paulo'\n",
    "elif(ddd == 21):\n",
    "    cidade = 'Rio de Janeiro'\n",
    "elif(ddd == 32):\n",
    "    cidade = 'Juiz de Fora'\n",
    "elif(ddd == 19):\n",
    "    cidade = 'Campinas'\n",
    "elif(ddd == 27):\n",
    "    cidade = 'Vitoria'\n",
    "elif(ddd == 31):\n",
    "    cidade = 'Belo Horizonte'\n",
    "else:\n",
    "    cidade = 'DDD nao cadastrado'\n",
    "print(cidade)"
   ]
  }
 ],
 "metadata": {
  "kernelspec": {
   "display_name": "Python 3",
   "language": "python",
   "name": "python3"
  },
  "language_info": {
   "codemirror_mode": {
    "name": "ipython",
    "version": 3
   },
   "file_extension": ".py",
   "mimetype": "text/x-python",
   "name": "python",
   "nbconvert_exporter": "python",
   "pygments_lexer": "ipython3",
   "version": "3.12.0"
  }
 },
 "nbformat": 4,
 "nbformat_minor": 2
}
