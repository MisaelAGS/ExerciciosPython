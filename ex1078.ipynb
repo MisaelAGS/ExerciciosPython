{
 "cells": [
  {
   "cell_type": "code",
   "execution_count": 3,
   "metadata": {},
   "outputs": [
    {
     "name": "stdout",
     "output_type": "stream",
     "text": [
      "1 x 140 = 140\n",
      "2 x 140 = 280\n",
      "3 x 140 = 420\n",
      "4 x 140 = 560\n",
      "5 x 140 = 700\n",
      "6 x 140 = 840\n",
      "7 x 140 = 980\n",
      "8 x 140 = 1120\n",
      "9 x 140 = 1260\n",
      "10 x 140 = 1400\n"
     ]
    }
   ],
   "source": [
    "N = int(input())\n",
    "for i in range(1, 10 +1):\n",
    "    print(f'{i} x {N} = {i * N}')"
   ]
  }
 ],
 "metadata": {
  "kernelspec": {
   "display_name": "Python 3",
   "language": "python",
   "name": "python3"
  },
  "language_info": {
   "codemirror_mode": {
    "name": "ipython",
    "version": 3
   },
   "file_extension": ".py",
   "mimetype": "text/x-python",
   "name": "python",
   "nbconvert_exporter": "python",
   "pygments_lexer": "ipython3",
   "version": "3.12.0"
  }
 },
 "nbformat": 4,
 "nbformat_minor": 2
}
