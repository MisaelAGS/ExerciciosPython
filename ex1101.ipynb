{
 "cells": [
  {
   "cell_type": "code",
   "execution_count": 15,
   "metadata": {},
   "outputs": [
    {
     "name": "stdout",
     "output_type": "stream",
     "text": [
      "2 3 4 5 Sum=14\n",
      "3 4 5 6 Sum=18\n"
     ]
    }
   ],
   "source": [
    "N, M = map(int, input().split())\n",
    "while(N > 0 and M > 0):\n",
    "    maior_valor = int(((M + N + (abs(M - N))) / 2))\n",
    "    menor_valor = int(((M + N - (abs(M - N))) / 2))\n",
    "    lista = []\n",
    "    soma = 0\n",
    "    for i in range(menor_valor, maior_valor + 1):\n",
    "        lista.append(i)\n",
    "        soma += i\n",
    "    lista_final = ' '.join(map(str, lista))\n",
    "    print(f'{lista_final} Sum={soma}')\n",
    "    N, M = map(int, input().split())"
   ]
  }
 ],
 "metadata": {
  "kernelspec": {
   "display_name": "Python 3",
   "language": "python",
   "name": "python3"
  },
  "language_info": {
   "codemirror_mode": {
    "name": "ipython",
    "version": 3
   },
   "file_extension": ".py",
   "mimetype": "text/x-python",
   "name": "python",
   "nbconvert_exporter": "python",
   "pygments_lexer": "ipython3",
   "version": "3.12.0"
  }
 },
 "nbformat": 4,
 "nbformat_minor": 2
}
