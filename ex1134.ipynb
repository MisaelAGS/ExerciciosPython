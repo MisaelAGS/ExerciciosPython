{
 "cells": [
  {
   "cell_type": "code",
   "execution_count": 2,
   "metadata": {},
   "outputs": [
    {
     "name": "stdout",
     "output_type": "stream",
     "text": [
      "MUITO OBRIGADO\n",
      "Alcool: 1\n",
      "Gasolina: 2\n",
      "Diesel: 0\n"
     ]
    }
   ],
   "source": [
    "alcool = 0 \n",
    "gasolina = 0 \n",
    "diesel = 0\n",
    "while True:\n",
    "    cod = int(input())\n",
    "    if(cod == 1):\n",
    "        alcool += 1\n",
    "    elif(cod == 2):\n",
    "        gasolina += 1\n",
    "    elif(cod == 3):\n",
    "        diesel += 1\n",
    "    elif(cod == 4):\n",
    "        break\n",
    "print('MUITO OBRIGADO')\n",
    "print(f'Alcool: {alcool}')\n",
    "print(f'Gasolina: {gasolina}')\n",
    "print(f'Diesel: {diesel}')"
   ]
  }
 ],
 "metadata": {
  "kernelspec": {
   "display_name": "Python 3",
   "language": "python",
   "name": "python3"
  },
  "language_info": {
   "codemirror_mode": {
    "name": "ipython",
    "version": 3
   },
   "file_extension": ".py",
   "mimetype": "text/x-python",
   "name": "python",
   "nbconvert_exporter": "python",
   "pygments_lexer": "ipython3",
   "version": "3.12.0"
  }
 },
 "nbformat": 4,
 "nbformat_minor": 2
}
