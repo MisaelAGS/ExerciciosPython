{
 "cells": [
  {
   "cell_type": "code",
   "execution_count": 6,
   "metadata": {},
   "outputs": [
    {
     "name": "stdout",
     "output_type": "stream",
     "text": [
      "nota invalida\n",
      "nota invalida\n",
      "media = 6.75\n",
      "media = 8.50\n"
     ]
    }
   ],
   "source": [
    "while True:\n",
    "    A = float(input())\n",
    "    while(not(0 <= A <= 10)):\n",
    "        print('nota invalida')\n",
    "        A = float(input())\n",
    "    B = float(input())\n",
    "    while(not(0<= B <=10)):\n",
    "        print('nota invalida')\n",
    "        B = float(input())\n",
    "    print(f'media = {(A + B) / 2:.2f}')\n",
    "    print('novo calculo (1-sim 2-nao)')\n",
    "    X = int(input())\n",
    "    while(not(X == 1 or X ==2)):\n",
    "        print('novo calculo (1-sim 2-nao)')\n",
    "        X = int(input())\n",
    "    if (X == 2):\n",
    "        break"
   ]
  }
 ],
 "metadata": {
  "kernelspec": {
   "display_name": "Python 3",
   "language": "python",
   "name": "python3"
  },
  "language_info": {
   "codemirror_mode": {
    "name": "ipython",
    "version": 3
   },
   "file_extension": ".py",
   "mimetype": "text/x-python",
   "name": "python",
   "nbconvert_exporter": "python",
   "pygments_lexer": "ipython3",
   "version": "3.12.0"
  }
 },
 "nbformat": 4,
 "nbformat_minor": 2
}
