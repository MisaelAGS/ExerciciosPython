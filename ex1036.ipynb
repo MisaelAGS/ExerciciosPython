{
 "cells": [
  {
   "cell_type": "code",
   "execution_count": 1,
   "metadata": {},
   "outputs": [
    {
     "name": "stdout",
     "output_type": "stream",
     "text": [
      "R1 = -0.29788\n",
      "R2 = -1.71212\n"
     ]
    }
   ],
   "source": [
    "from math import pow, sqrt\n",
    "A, B, C = map(float, input().split())\n",
    "delta = (pow(B, 2)) - (4 * A * C)\n",
    "if(delta >= 0 and A != 0):\n",
    "    x1 = ((B * (-1)) + (sqrt(delta))) / (2 * A)\n",
    "    x2 = ((B * (-1)) - (sqrt(delta))) / (2 * A)\n",
    "    print(f'R1 = {x1:.5f}')\n",
    "    print(f'R2 = {x2:.5f}')\n",
    "else:\n",
    "    print('Impossivel calcular')"
   ]
  }
 ],
 "metadata": {
  "kernelspec": {
   "display_name": "Python 3",
   "language": "python",
   "name": "python3"
  },
  "language_info": {
   "codemirror_mode": {
    "name": "ipython",
    "version": 3
   },
   "file_extension": ".py",
   "mimetype": "text/x-python",
   "name": "python",
   "nbconvert_exporter": "python",
   "pygments_lexer": "ipython3",
   "version": "3.12.0"
  }
 },
 "nbformat": 4,
 "nbformat_minor": 2
}
