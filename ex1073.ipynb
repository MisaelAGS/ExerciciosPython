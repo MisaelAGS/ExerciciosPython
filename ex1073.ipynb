{
 "cells": [
  {
   "cell_type": "code",
   "execution_count": 8,
   "metadata": {},
   "outputs": [
    {
     "name": "stdout",
     "output_type": "stream",
     "text": [
      "2^2 = 4 \n",
      "4^2 = 16 \n",
      "6^2 = 36 \n"
     ]
    }
   ],
   "source": [
    "N = int(input())\n",
    "if(5 < N < 2000):\n",
    "    for i in range(1, N + 1):\n",
    "        if (i % 2 == 0):\n",
    "            print(f'{i}^2 = {int(pow(i, 2))}')\n",
    "            i += 2"
   ]
  }
 ],
 "metadata": {
  "kernelspec": {
   "display_name": "Python 3",
   "language": "python",
   "name": "python3"
  },
  "language_info": {
   "codemirror_mode": {
    "name": "ipython",
    "version": 3
   },
   "file_extension": ".py",
   "mimetype": "text/x-python",
   "name": "python",
   "nbconvert_exporter": "python",
   "pygments_lexer": "ipython3",
   "version": "3.12.0"
  }
 },
 "nbformat": 4,
 "nbformat_minor": 2
}
