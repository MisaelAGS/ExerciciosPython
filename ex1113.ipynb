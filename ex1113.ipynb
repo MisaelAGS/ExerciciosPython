{
 "cells": [
  {
   "cell_type": "code",
   "execution_count": 3,
   "metadata": {},
   "outputs": [
    {
     "name": "stdout",
     "output_type": "stream",
     "text": [
      "Crescente\n",
      "Decrescente\n",
      "Crescente\n",
      "Decrescente\n",
      "Decrescente\n"
     ]
    }
   ],
   "source": [
    "numero_1, numero_2 = map(int, input().split())\n",
    "\n",
    "while numero_1 != numero_2:\n",
    "    if numero_1 > numero_2:\n",
    "        print('Decrescente')\n",
    "    elif numero_1 < numero_2:\n",
    "        print('Crescente')\n",
    "    numero_1, numero_2 = map(int, input().split())\n"
   ]
  }
 ],
 "metadata": {
  "kernelspec": {
   "display_name": "Python 3",
   "language": "python",
   "name": "python3"
  },
  "language_info": {
   "codemirror_mode": {
    "name": "ipython",
    "version": 3
   },
   "file_extension": ".py",
   "mimetype": "text/x-python",
   "name": "python",
   "nbconvert_exporter": "python",
   "pygments_lexer": "ipython3",
   "version": "3.12.0"
  }
 },
 "nbformat": 4,
 "nbformat_minor": 2
}
