{
 "cells": [
  {
   "cell_type": "code",
   "execution_count": 1,
   "metadata": {},
   "outputs": [
    {
     "name": "stdout",
     "output_type": "stream",
     "text": [
      "TRIANGULO: 7.800\n",
      "CIRCULO: 84.949\n",
      "TRAPEZIO: 18.200\n",
      "QUADRADO: 16.000\n",
      "RETANGULO: 12.000\n"
     ]
    }
   ],
   "source": [
    "from math import pow\n",
    "A, B, C = map(float, input().split())\n",
    "pi = 3.14159\n",
    "# Área do Triângulo\n",
    "area_triangulo = A * C / 2\n",
    "print(f'TRIANGULO: {area_triangulo:.3f}')\n",
    "# Área do Círculo\n",
    "area_circulo = pi * pow(C, 2)\n",
    "print(f'CIRCULO: {area_circulo:.3f}')\n",
    "# Área do Trapézio\n",
    "area_trapezio = (A + B) * C / 2\n",
    "print(f'TRAPEZIO: {area_trapezio:.3f}')\n",
    "# Área do Quadrado\n",
    "area_quadrado = pow(B, 2)\n",
    "print(f'QUADRADO: {area_quadrado:.3f}')\n",
    "# Área do Retângulo\n",
    "area_retangulo = A * B\n",
    "print(f'RETANGULO: {area_retangulo:.3f}')"
   ]
  }
 ],
 "metadata": {
  "kernelspec": {
   "display_name": "Python 3",
   "language": "python",
   "name": "python3"
  },
  "language_info": {
   "codemirror_mode": {
    "name": "ipython",
    "version": 3
   },
   "file_extension": ".py",
   "mimetype": "text/x-python",
   "name": "python",
   "nbconvert_exporter": "python",
   "pygments_lexer": "ipython3",
   "version": "3.12.0"
  }
 },
 "nbformat": 4,
 "nbformat_minor": 2
}
