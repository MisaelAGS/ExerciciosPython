{
 "cells": [
  {
   "cell_type": "code",
   "execution_count": 27,
   "metadata": {},
   "outputs": [
    {
     "name": "stdout",
     "output_type": "stream",
     "text": [
      "TRIANGULO ACUTANGULO\n",
      "TRIANGULO ISOSCELES\n"
     ]
    }
   ],
   "source": [
    "msg_1 = ''\n",
    "msg_2 = ''\n",
    "lista = []\n",
    "A, B, C = map(float, input().split())\n",
    "lista.append(A)\n",
    "lista.append(B)\n",
    "lista.append(C)\n",
    "lista.sort(reverse= True)\n",
    "A = lista[0]\n",
    "B = lista[1]\n",
    "C = lista[2]\n",
    "if(A >= B + C):\n",
    "    msg_1 = 'NAO FORMA TRIANGULO'\n",
    "elif(pow(A, 2) == pow(B, 2) + pow(C, 2)):\n",
    "    msg_1 = 'TRIANGULO RETANGULO'\n",
    "elif(pow(A, 2) > pow(B, 2) + pow(C, 2)):\n",
    "    msg_1 = 'TRIANGULO OBTUSANGULO'\n",
    "elif(pow(A, 2) < pow(B, 2) + pow(C, 2)):\n",
    "    msg_1 = 'TRIANGULO ACUTANGULO'\n",
    "if(msg_1 != 'NAO FORMA TRIANGULO'):\n",
    "    if(A == B == C):\n",
    "        msg_2 = 'TRIANGULO EQUILATERO'\n",
    "    elif((A == B and A != C) or (A == C and A != B) or (B == C and B != A)):\n",
    "        msg_2 = 'TRIANGULO ISOSCELES'\n",
    "print(msg_1)\n",
    "print(msg_2)"
   ]
  }
 ],
 "metadata": {
  "kernelspec": {
   "display_name": "Python 3",
   "language": "python",
   "name": "python3"
  },
  "language_info": {
   "codemirror_mode": {
    "name": "ipython",
    "version": 3
   },
   "file_extension": ".py",
   "mimetype": "text/x-python",
   "name": "python",
   "nbconvert_exporter": "python",
   "pygments_lexer": "ipython3",
   "version": "3.12.0"
  }
 },
 "nbformat": 4,
 "nbformat_minor": 2
}
