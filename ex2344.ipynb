{
 "cells": [
  {
   "cell_type": "code",
   "execution_count": 3,
   "metadata": {},
   "outputs": [
    {
     "name": "stdout",
     "output_type": "stream",
     "text": [
      "E\n"
     ]
    }
   ],
   "source": [
    "num = int(input())\n",
    "if(num == 0):\n",
    "    print('E')\n",
    "elif(1 <= num <= 35):\n",
    "    print('D')\n",
    "elif(36 <= num <= 60):\n",
    "    print('C')\n",
    "elif(61 <= num <= 85):\n",
    "    print('B')\n",
    "elif(86 <= num <= 100):\n",
    "    print('A')"
   ]
  }
 ],
 "metadata": {
  "kernelspec": {
   "display_name": "Python 3",
   "language": "python",
   "name": "python3"
  },
  "language_info": {
   "codemirror_mode": {
    "name": "ipython",
    "version": 3
   },
   "file_extension": ".py",
   "mimetype": "text/x-python",
   "name": "python",
   "nbconvert_exporter": "python",
   "pygments_lexer": "ipython3",
   "version": "3.12.0"
  }
 },
 "nbformat": 4,
 "nbformat_minor": 2
}
