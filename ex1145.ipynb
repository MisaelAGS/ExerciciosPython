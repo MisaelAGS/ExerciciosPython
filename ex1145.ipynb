{
 "cells": [
  {
   "cell_type": "code",
   "execution_count": 7,
   "metadata": {},
   "outputs": [
    {
     "name": "stdout",
     "output_type": "stream",
     "text": [
      "1 2 3\n",
      "4 5 6\n",
      "7 8 9\n",
      "10 11 12\n",
      "13 14 15\n",
      "16 17 18\n",
      "19 20 21\n",
      "22 23 24\n",
      "25 26 27\n",
      "28 29 30\n",
      "31 32 33\n",
      "34 35 36\n",
      "37 38 39\n",
      "40 41 42\n",
      "43 44 45\n",
      "46 47 48\n",
      "49 50 51\n",
      "52 53 54\n",
      "55 56 57\n",
      "58 59 60\n",
      "61 62 63\n",
      "64 65 66\n",
      "67 68 69\n",
      "70 71 72\n",
      "73 74 75\n",
      "76 77 78\n",
      "79 80 81\n",
      "82 83 84\n",
      "85 86 87\n",
      "88 89 90\n",
      "91 92 93\n",
      "94 95 96\n",
      "97 98 99\n"
     ]
    }
   ],
   "source": [
    "X, Y = map(int, input().split())\n",
    "cont = 1\n",
    "for i in range(1, Y + 1):\n",
    "    if(cont % X == 0):\n",
    "        print(i)\n",
    "        cont += 1\n",
    "    else:\n",
    "        print(i, end = ' ')\n",
    "        cont += 1"
   ]
  }
 ],
 "metadata": {
  "kernelspec": {
   "display_name": "Python 3",
   "language": "python",
   "name": "python3"
  },
  "language_info": {
   "codemirror_mode": {
    "name": "ipython",
    "version": 3
   },
   "file_extension": ".py",
   "mimetype": "text/x-python",
   "name": "python",
   "nbconvert_exporter": "python",
   "pygments_lexer": "ipython3",
   "version": "3.12.0"
  }
 },
 "nbformat": 4,
 "nbformat_minor": 2
}
