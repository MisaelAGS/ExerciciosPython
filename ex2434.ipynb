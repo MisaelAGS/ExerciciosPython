{
 "cells": [
  {
   "cell_type": "code",
   "execution_count": 2,
   "metadata": {},
   "outputs": [
    {
     "name": "stdout",
     "output_type": "stream",
     "text": [
      "-1300\n"
     ]
    }
   ],
   "source": [
    "qtd_dias, saldo_inicial = map(int, input().split())\n",
    "saldo_dia = saldo_inicial\n",
    "historico = []\n",
    "for i in range(qtd_dias):\n",
    "    movimentacao = int(input())\n",
    "    saldo_dia += movimentacao\n",
    "    historico.append(saldo_dia)\n",
    "print(min(historico))"
   ]
  }
 ],
 "metadata": {
  "kernelspec": {
   "display_name": "Python 3",
   "language": "python",
   "name": "python3"
  },
  "language_info": {
   "codemirror_mode": {
    "name": "ipython",
    "version": 3
   },
   "file_extension": ".py",
   "mimetype": "text/x-python",
   "name": "python",
   "nbconvert_exporter": "python",
   "pygments_lexer": "ipython3",
   "version": "3.12.0"
  }
 },
 "nbformat": 4,
 "nbformat_minor": 2
}
