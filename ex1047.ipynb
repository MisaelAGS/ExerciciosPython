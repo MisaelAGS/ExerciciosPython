{
 "cells": [
  {
   "cell_type": "code",
   "execution_count": 24,
   "metadata": {},
   "outputs": [
    {
     "name": "stdout",
     "output_type": "stream",
     "text": [
      "O JOGO DUROU 24 HORA(S) E 0 MINUTO(S)\n"
     ]
    }
   ],
   "source": [
    "hora_inicial, minuto_inicial, hora_final, minuto_final = map(int, input().split())\n",
    "if(hora_inicial == hora_final):\n",
    "    if(minuto_final > minuto_inicial):\n",
    "        horas = 0\n",
    "        minutos = minuto_final - minuto_inicial\n",
    "    elif(minuto_inicial > minuto_final):\n",
    "        horas = 23\n",
    "        minutos = (60 - minuto_inicial) + minuto_final\n",
    "    elif(minuto_inicial == minuto_final):\n",
    "        horas = 24\n",
    "        minutos = 0\n",
    "elif(hora_final - hora_inicial == 1):\n",
    "    horas = 0\n",
    "elif(hora_inicial > hora_final):\n",
    "    horas = (24 - hora_inicial) + hora_final\n",
    "elif(hora_final > hora_inicial):\n",
    "    horas = hora_final - hora_inicial\n",
    "if(minuto_inicial == minuto_final):\n",
    "    minutos = 0\n",
    "elif(minuto_final > minuto_inicial):\n",
    "    minutos = minuto_final - minuto_inicial\n",
    "elif(minuto_inicial > minuto_final):\n",
    "    minutos = (60 - minuto_inicial) + minuto_final\n",
    "print(f'O JOGO DUROU {horas} HORA(S) E {minutos} MINUTO(S)')"
   ]
  }
 ],
 "metadata": {
  "kernelspec": {
   "display_name": "Python 3",
   "language": "python",
   "name": "python3"
  },
  "language_info": {
   "codemirror_mode": {
    "name": "ipython",
    "version": 3
   },
   "file_extension": ".py",
   "mimetype": "text/x-python",
   "name": "python",
   "nbconvert_exporter": "python",
   "pygments_lexer": "ipython3",
   "version": "3.12.0"
  }
 },
 "nbformat": 4,
 "nbformat_minor": 2
}
