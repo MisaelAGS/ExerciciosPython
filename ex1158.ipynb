{
 "cells": [
  {
   "cell_type": "code",
   "execution_count": 4,
   "metadata": {},
   "outputs": [
    {
     "name": "stdout",
     "output_type": "stream",
     "text": [
      "21\n",
      "24\n"
     ]
    }
   ],
   "source": [
    "N = int(input())\n",
    "soma = 0\n",
    "for i in range(N):\n",
    "    X, Y = map(int, input().split())\n",
    "    for i in range(Y):\n",
    "        if (X % 2 == 0):\n",
    "            X += 1\n",
    "        soma += X\n",
    "        X += 2\n",
    "    print(soma)\n",
    "    soma = 0\n"
   ]
  }
 ],
 "metadata": {
  "kernelspec": {
   "display_name": "Python 3",
   "language": "python",
   "name": "python3"
  },
  "language_info": {
   "codemirror_mode": {
    "name": "ipython",
    "version": 3
   },
   "file_extension": ".py",
   "mimetype": "text/x-python",
   "name": "python",
   "nbconvert_exporter": "python",
   "pygments_lexer": "ipython3",
   "version": "3.12.0"
  }
 },
 "nbformat": 4,
 "nbformat_minor": 2
}
