{
 "cells": [
  {
   "cell_type": "code",
   "execution_count": 15,
   "metadata": {},
   "outputs": [
    {
     "name": "stdout",
     "output_type": "stream",
     "text": [
      "0 1 1 2 3 "
     ]
    }
   ],
   "source": [
    "N = int(input())\n",
    "primeiro_valor = 0\n",
    "segundo_valor = 1\n",
    "lista = [primeiro_valor, segundo_valor]\n",
    "for i in range(N - 2):\n",
    "    soma = primeiro_valor + segundo_valor\n",
    "    lista.append(soma)\n",
    "    primeiro_valor = segundo_valor\n",
    "    segundo_valor = soma\n",
    "for i in lista:\n",
    "    print(i, end = ' ')\n"
   ]
  },
  {
   "cell_type": "code",
   "execution_count": null,
   "metadata": {},
   "outputs": [],
   "source": [
    "int(input(N))\n",
    "for i in range(N):\n",
    "    while\n",
    "    "
   ]
  }
 ],
 "metadata": {
  "kernelspec": {
   "display_name": "Python 3",
   "language": "python",
   "name": "python3"
  },
  "language_info": {
   "codemirror_mode": {
    "name": "ipython",
    "version": 3
   },
   "file_extension": ".py",
   "mimetype": "text/x-python",
   "name": "python",
   "nbconvert_exporter": "python",
   "pygments_lexer": "ipython3",
   "version": "3.12.0"
  }
 },
 "nbformat": 4,
 "nbformat_minor": 2
}
